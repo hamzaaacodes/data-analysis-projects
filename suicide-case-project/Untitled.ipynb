{
 "cells": [
  {
   "cell_type": "markdown",
   "id": "41f27c42",
   "metadata": {},
   "source": [
    "# IMPORTING LIBRARIES"
   ]
  },
  {
   "cell_type": "code",
   "execution_count": 1,
   "id": "14cd97bd",
   "metadata": {},
   "outputs": [],
   "source": [
    "import pandas as pd\n",
    "import matplotlib.pyplot as pyp"
   ]
  },
  {
   "cell_type": "markdown",
   "id": "bd897bda",
   "metadata": {},
   "source": [
    "# DATA READING"
   ]
  },
  {
   "cell_type": "code",
   "execution_count": 2,
   "id": "e621ab49",
   "metadata": {},
   "outputs": [
    {
     "data": {
      "text/html": [
       "<div>\n",
       "<style scoped>\n",
       "    .dataframe tbody tr th:only-of-type {\n",
       "        vertical-align: middle;\n",
       "    }\n",
       "\n",
       "    .dataframe tbody tr th {\n",
       "        vertical-align: top;\n",
       "    }\n",
       "\n",
       "    .dataframe thead th {\n",
       "        text-align: right;\n",
       "    }\n",
       "</style>\n",
       "<table border=\"1\" class=\"dataframe\">\n",
       "  <thead>\n",
       "    <tr style=\"text-align: right;\">\n",
       "      <th></th>\n",
       "      <th>State</th>\n",
       "      <th>Year</th>\n",
       "      <th>Type_code</th>\n",
       "      <th>Type</th>\n",
       "      <th>Gender</th>\n",
       "      <th>Age_group</th>\n",
       "    </tr>\n",
       "  </thead>\n",
       "  <tbody>\n",
       "    <tr>\n",
       "      <th>0</th>\n",
       "      <td>A &amp; N ISLANDS</td>\n",
       "      <td>2001</td>\n",
       "      <td>Causes</td>\n",
       "      <td>Cancer</td>\n",
       "      <td>Male</td>\n",
       "      <td>15-29</td>\n",
       "    </tr>\n",
       "    <tr>\n",
       "      <th>1</th>\n",
       "      <td>A &amp; N ISLANDS</td>\n",
       "      <td>2001</td>\n",
       "      <td>Causes</td>\n",
       "      <td>Divorce</td>\n",
       "      <td>Male</td>\n",
       "      <td>60+</td>\n",
       "    </tr>\n",
       "    <tr>\n",
       "      <th>2</th>\n",
       "      <td>A &amp; N ISLANDS</td>\n",
       "      <td>2001</td>\n",
       "      <td>Causes</td>\n",
       "      <td>Dowry Dispute</td>\n",
       "      <td>Female</td>\n",
       "      <td>60+</td>\n",
       "    </tr>\n",
       "    <tr>\n",
       "      <th>3</th>\n",
       "      <td>A &amp; N ISLANDS</td>\n",
       "      <td>2001</td>\n",
       "      <td>Causes</td>\n",
       "      <td>Ideological Causes/Hero Worshipping</td>\n",
       "      <td>Female</td>\n",
       "      <td>60+</td>\n",
       "    </tr>\n",
       "    <tr>\n",
       "      <th>4</th>\n",
       "      <td>A &amp; N ISLANDS</td>\n",
       "      <td>2001</td>\n",
       "      <td>Causes</td>\n",
       "      <td>Illness (Aids/STD)</td>\n",
       "      <td>Female</td>\n",
       "      <td>0-14</td>\n",
       "    </tr>\n",
       "    <tr>\n",
       "      <th>...</th>\n",
       "      <td>...</td>\n",
       "      <td>...</td>\n",
       "      <td>...</td>\n",
       "      <td>...</td>\n",
       "      <td>...</td>\n",
       "      <td>...</td>\n",
       "    </tr>\n",
       "    <tr>\n",
       "      <th>237514</th>\n",
       "      <td>WEST BENGAL</td>\n",
       "      <td>2012</td>\n",
       "      <td>Professional_Profile</td>\n",
       "      <td>Professional Activity</td>\n",
       "      <td>Male</td>\n",
       "      <td>60+</td>\n",
       "    </tr>\n",
       "    <tr>\n",
       "      <th>237515</th>\n",
       "      <td>WEST BENGAL</td>\n",
       "      <td>2012</td>\n",
       "      <td>Professional_Profile</td>\n",
       "      <td>Self-employed (Business activity)</td>\n",
       "      <td>Male</td>\n",
       "      <td>0-14</td>\n",
       "    </tr>\n",
       "    <tr>\n",
       "      <th>237516</th>\n",
       "      <td>WEST BENGAL</td>\n",
       "      <td>2012</td>\n",
       "      <td>Professional_Profile</td>\n",
       "      <td>Service (Government)</td>\n",
       "      <td>Male</td>\n",
       "      <td>15-29</td>\n",
       "    </tr>\n",
       "    <tr>\n",
       "      <th>237517</th>\n",
       "      <td>WEST BENGAL</td>\n",
       "      <td>2012</td>\n",
       "      <td>Professional_Profile</td>\n",
       "      <td>Service (Government)</td>\n",
       "      <td>Male</td>\n",
       "      <td>60+</td>\n",
       "    </tr>\n",
       "    <tr>\n",
       "      <th>237518</th>\n",
       "      <td>WEST BENGAL</td>\n",
       "      <td>2012</td>\n",
       "      <td>Social_Status</td>\n",
       "      <td>Never Married</td>\n",
       "      <td>Male</td>\n",
       "      <td>0-100+</td>\n",
       "    </tr>\n",
       "  </tbody>\n",
       "</table>\n",
       "<p>237519 rows × 6 columns</p>\n",
       "</div>"
      ],
      "text/plain": [
       "                State  Year             Type_code  \\\n",
       "0       A & N ISLANDS  2001                Causes   \n",
       "1       A & N ISLANDS  2001                Causes   \n",
       "2       A & N ISLANDS  2001                Causes   \n",
       "3       A & N ISLANDS  2001                Causes   \n",
       "4       A & N ISLANDS  2001                Causes   \n",
       "...               ...   ...                   ...   \n",
       "237514    WEST BENGAL  2012  Professional_Profile   \n",
       "237515    WEST BENGAL  2012  Professional_Profile   \n",
       "237516    WEST BENGAL  2012  Professional_Profile   \n",
       "237517    WEST BENGAL  2012  Professional_Profile   \n",
       "237518    WEST BENGAL  2012         Social_Status   \n",
       "\n",
       "                                       Type  Gender Age_group  \n",
       "0                                    Cancer    Male     15-29  \n",
       "1                                   Divorce    Male       60+  \n",
       "2                             Dowry Dispute  Female       60+  \n",
       "3       Ideological Causes/Hero Worshipping  Female       60+  \n",
       "4                        Illness (Aids/STD)  Female      0-14  \n",
       "...                                     ...     ...       ...  \n",
       "237514                Professional Activity    Male       60+  \n",
       "237515    Self-employed (Business activity)    Male      0-14  \n",
       "237516                 Service (Government)    Male     15-29  \n",
       "237517                 Service (Government)    Male       60+  \n",
       "237518                        Never Married    Male    0-100+  \n",
       "\n",
       "[237519 rows x 6 columns]"
      ]
     },
     "execution_count": 2,
     "metadata": {},
     "output_type": "execute_result"
    }
   ],
   "source": [
    "data = pd.read_csv('Suicides_in_India.csv')\n",
    "data"
   ]
  },
  {
   "cell_type": "code",
   "execution_count": 3,
   "id": "ba7551af",
   "metadata": {},
   "outputs": [
    {
     "data": {
      "text/html": [
       "<div>\n",
       "<style scoped>\n",
       "    .dataframe tbody tr th:only-of-type {\n",
       "        vertical-align: middle;\n",
       "    }\n",
       "\n",
       "    .dataframe tbody tr th {\n",
       "        vertical-align: top;\n",
       "    }\n",
       "\n",
       "    .dataframe thead th {\n",
       "        text-align: right;\n",
       "    }\n",
       "</style>\n",
       "<table border=\"1\" class=\"dataframe\">\n",
       "  <thead>\n",
       "    <tr style=\"text-align: right;\">\n",
       "      <th></th>\n",
       "      <th>State</th>\n",
       "      <th>Year</th>\n",
       "      <th>Type_code</th>\n",
       "      <th>Type</th>\n",
       "      <th>Gender</th>\n",
       "      <th>Age_group</th>\n",
       "    </tr>\n",
       "  </thead>\n",
       "  <tbody>\n",
       "    <tr>\n",
       "      <th>0</th>\n",
       "      <td>A &amp; N ISLANDS</td>\n",
       "      <td>2001</td>\n",
       "      <td>Causes</td>\n",
       "      <td>Cancer</td>\n",
       "      <td>Male</td>\n",
       "      <td>15-29</td>\n",
       "    </tr>\n",
       "    <tr>\n",
       "      <th>1</th>\n",
       "      <td>A &amp; N ISLANDS</td>\n",
       "      <td>2001</td>\n",
       "      <td>Causes</td>\n",
       "      <td>Divorce</td>\n",
       "      <td>Male</td>\n",
       "      <td>60+</td>\n",
       "    </tr>\n",
       "    <tr>\n",
       "      <th>2</th>\n",
       "      <td>A &amp; N ISLANDS</td>\n",
       "      <td>2001</td>\n",
       "      <td>Causes</td>\n",
       "      <td>Dowry Dispute</td>\n",
       "      <td>Female</td>\n",
       "      <td>60+</td>\n",
       "    </tr>\n",
       "    <tr>\n",
       "      <th>3</th>\n",
       "      <td>A &amp; N ISLANDS</td>\n",
       "      <td>2001</td>\n",
       "      <td>Causes</td>\n",
       "      <td>Ideological Causes/Hero Worshipping</td>\n",
       "      <td>Female</td>\n",
       "      <td>60+</td>\n",
       "    </tr>\n",
       "    <tr>\n",
       "      <th>4</th>\n",
       "      <td>A &amp; N ISLANDS</td>\n",
       "      <td>2001</td>\n",
       "      <td>Causes</td>\n",
       "      <td>Illness (Aids/STD)</td>\n",
       "      <td>Female</td>\n",
       "      <td>0-14</td>\n",
       "    </tr>\n",
       "  </tbody>\n",
       "</table>\n",
       "</div>"
      ],
      "text/plain": [
       "           State  Year Type_code                                 Type  Gender  \\\n",
       "0  A & N ISLANDS  2001    Causes                               Cancer    Male   \n",
       "1  A & N ISLANDS  2001    Causes                              Divorce    Male   \n",
       "2  A & N ISLANDS  2001    Causes                        Dowry Dispute  Female   \n",
       "3  A & N ISLANDS  2001    Causes  Ideological Causes/Hero Worshipping  Female   \n",
       "4  A & N ISLANDS  2001    Causes                   Illness (Aids/STD)  Female   \n",
       "\n",
       "  Age_group  \n",
       "0     15-29  \n",
       "1       60+  \n",
       "2       60+  \n",
       "3       60+  \n",
       "4      0-14  "
      ]
     },
     "execution_count": 3,
     "metadata": {},
     "output_type": "execute_result"
    }
   ],
   "source": [
    "data.head()"
   ]
  },
  {
   "cell_type": "markdown",
   "id": "3f094845",
   "metadata": {},
   "source": [
    "# DATA ANALYSING"
   ]
  },
  {
   "cell_type": "markdown",
   "id": "2d7ec6eb",
   "metadata": {},
   "source": [
    "# DATA EXPLORATORY ANALYSING (EDA)"
   ]
  },
  {
   "cell_type": "code",
   "execution_count": 4,
   "id": "0336a468",
   "metadata": {},
   "outputs": [
    {
     "data": {
      "text/plain": [
       "237519"
      ]
     },
     "execution_count": 4,
     "metadata": {},
     "output_type": "execute_result"
    }
   ],
   "source": [
    "len(data)"
   ]
  },
  {
   "cell_type": "code",
   "execution_count": 5,
   "id": "24d188c0",
   "metadata": {},
   "outputs": [
    {
     "data": {
      "text/plain": [
       "Index(['State', 'Year', 'Type_code', 'Type', 'Gender', 'Age_group'], dtype='object')"
      ]
     },
     "execution_count": 5,
     "metadata": {},
     "output_type": "execute_result"
    }
   ],
   "source": [
    "data.columns"
   ]
  },
  {
   "cell_type": "code",
   "execution_count": 6,
   "id": "34c9ceae",
   "metadata": {},
   "outputs": [
    {
     "name": "stdout",
     "output_type": "stream",
     "text": [
      "<class 'pandas.core.frame.DataFrame'>\n",
      "RangeIndex: 237519 entries, 0 to 237518\n",
      "Data columns (total 6 columns):\n",
      " #   Column     Non-Null Count   Dtype \n",
      "---  ------     --------------   ----- \n",
      " 0   State      237519 non-null  object\n",
      " 1   Year       237519 non-null  int64 \n",
      " 2   Type_code  237519 non-null  object\n",
      " 3   Type       237519 non-null  object\n",
      " 4   Gender     237519 non-null  object\n",
      " 5   Age_group  237519 non-null  object\n",
      "dtypes: int64(1), object(5)\n",
      "memory usage: 10.9+ MB\n"
     ]
    }
   ],
   "source": [
    "data.info()"
   ]
  },
  {
   "cell_type": "code",
   "execution_count": 7,
   "id": "51a04477",
   "metadata": {},
   "outputs": [
    {
     "data": {
      "text/plain": [
       "array(['A & N ISLANDS', 'ANDHRA PRADESH', 'ARUNACHAL PRADESH', 'ASSAM',\n",
       "       'BIHAR', 'CHANDIGARH', 'CHHATTISGARH', 'D & N HAVELI',\n",
       "       'DAMAN & DIU', 'DELHI (UT)', 'GOA', 'GUJARAT', 'HARYANA',\n",
       "       'HIMACHAL PRADESH', 'JAMMU & KASHMIR', 'JHARKHAND', 'KARNATAKA',\n",
       "       'KERALA', 'LAKSHADWEEP', 'MADHYA PRADESH', 'MAHARASHTRA',\n",
       "       'MANIPUR', 'MEGHALAYA', 'MIZORAM', 'NAGALAND', 'ODISHA',\n",
       "       'PUDUCHERRY', 'PUNJAB', 'RAJASTHAN', 'SIKKIM', 'TAMIL NADU',\n",
       "       'TOTAL (ALL INDIA)', 'TOTAL (STATES)', 'TOTAL (UTs)', 'TRIPURA',\n",
       "       'UTTAR PRADESH', 'UTTARAKHAND', 'WEST BENGAL'], dtype=object)"
      ]
     },
     "execution_count": 7,
     "metadata": {},
     "output_type": "execute_result"
    }
   ],
   "source": [
    "data.State.unique()"
   ]
  },
  {
   "cell_type": "code",
   "execution_count": 8,
   "id": "cf5e500a",
   "metadata": {},
   "outputs": [
    {
     "data": {
      "text/plain": [
       "array([2001, 2002, 2003, 2004, 2005, 2006, 2007, 2008, 2009, 2010, 2011,\n",
       "       2012], dtype=int64)"
      ]
     },
     "execution_count": 8,
     "metadata": {},
     "output_type": "execute_result"
    }
   ],
   "source": [
    "data.Year.unique()"
   ]
  },
  {
   "cell_type": "code",
   "execution_count": 9,
   "id": "c1d4deda",
   "metadata": {},
   "outputs": [
    {
     "data": {
      "text/plain": [
       "array(['Causes', 'Means_adopted', 'Professional_Profile',\n",
       "       'Education_Status', 'Social_Status'], dtype=object)"
      ]
     },
     "execution_count": 9,
     "metadata": {},
     "output_type": "execute_result"
    }
   ],
   "source": [
    "data.Type_code.unique()"
   ]
  },
  {
   "cell_type": "code",
   "execution_count": 10,
   "id": "f96c34a9",
   "metadata": {},
   "outputs": [
    {
     "data": {
      "text/plain": [
       "array(['Cancer', 'Divorce', 'Dowry Dispute',\n",
       "       'Ideological Causes/Hero Worshipping', 'Illness (Aids/STD)',\n",
       "       'Paralysis', 'Property Dispute', 'Suspected/Illicit Relation',\n",
       "       'By Consuming Insecticides', 'By Fire/Self Immolation',\n",
       "       'By Hanging', 'By Machine', 'By Other means (please specify)',\n",
       "       'By Overdose of sleeping pills', 'By Self Infliction of injury',\n",
       "       'By touching electric wires', 'House Wife',\n",
       "       'Others (Please Specify)', 'Public Sector Undertaking',\n",
       "       'Self-employed (Business activity)', 'Service (Government)',\n",
       "       'Bankruptcy or Sudden change in Economic Status',\n",
       "       'Cancellation/Non-Settlement of Marriage', 'Death of Dear Person',\n",
       "       'By coming under running vehicles/trains', 'By Fire-Arms',\n",
       "       'By Other means', 'Farming/Agriculture Activity', 'Retired Person',\n",
       "       'Failure in Examination', 'Fall in Social Reputation',\n",
       "       'Family Problems', 'Illegitimate Pregnancy',\n",
       "       'Other Prolonged Illness',\n",
       "       'Hr. Secondary/Intermediate/Pre-Universit', 'By Drowning',\n",
       "       'By Jumping from (Other sites)', 'By Over Alcoholism',\n",
       "       'Bankruptcy or Sudden change in Economic',\n",
       "       'Insanity/Mental Illness', 'Love Affairs',\n",
       "       'Other Causes (Please Specity)',\n",
       "       'Physical Abuse (Rape/Incest Etc.)', 'Poverty',\n",
       "       'Professional/Career Problem', 'Unemployment', 'Student',\n",
       "       'Drug Abuse/Addiction', 'By Jumping off Moving Vehicles/Trains',\n",
       "       'Unemployed', 'Never Married',\n",
       "       'Not having Children(Barrenness/Impotency',\n",
       "       'By Jumping from (Building)', 'Married', 'Service (Private)',\n",
       "       'Causes Not known', 'Not having Children (Barrenness/Impotency',\n",
       "       'Middle', 'Professional Activity', 'By Consuming Other Poison',\n",
       "       'Widowed/Widower', 'Diploma', 'Matriculate/Secondary', 'Seperated',\n",
       "       'Divorcee', 'No Education', 'Post Graduate and Above', 'Primary',\n",
       "       'Graduate'], dtype=object)"
      ]
     },
     "execution_count": 10,
     "metadata": {},
     "output_type": "execute_result"
    }
   ],
   "source": [
    "data.Type.unique()"
   ]
  },
  {
   "cell_type": "code",
   "execution_count": 11,
   "id": "bbdace0f",
   "metadata": {},
   "outputs": [],
   "source": [
    "data['Type'].replace('Divorcee','Divorce',inplace=True)"
   ]
  },
  {
   "cell_type": "code",
   "execution_count": 12,
   "id": "38e88546",
   "metadata": {},
   "outputs": [
    {
     "data": {
      "text/plain": [
       "array(['Male', 'Female'], dtype=object)"
      ]
     },
     "execution_count": 12,
     "metadata": {},
     "output_type": "execute_result"
    }
   ],
   "source": [
    "data.Gender.unique()"
   ]
  },
  {
   "cell_type": "code",
   "execution_count": 13,
   "id": "75ecebb8",
   "metadata": {},
   "outputs": [
    {
     "data": {
      "text/plain": [
       "array(['15-29', '60+', '0-14', '45-59', '30-44', '0-100+'], dtype=object)"
      ]
     },
     "execution_count": 13,
     "metadata": {},
     "output_type": "execute_result"
    }
   ],
   "source": [
    "data.Age_group.unique()"
   ]
  },
  {
   "cell_type": "code",
   "execution_count": 14,
   "id": "e352f147",
   "metadata": {},
   "outputs": [
    {
     "data": {
      "text/html": [
       "<div>\n",
       "<style scoped>\n",
       "    .dataframe tbody tr th:only-of-type {\n",
       "        vertical-align: middle;\n",
       "    }\n",
       "\n",
       "    .dataframe tbody tr th {\n",
       "        vertical-align: top;\n",
       "    }\n",
       "\n",
       "    .dataframe thead th {\n",
       "        text-align: right;\n",
       "    }\n",
       "</style>\n",
       "<table border=\"1\" class=\"dataframe\">\n",
       "  <thead>\n",
       "    <tr style=\"text-align: right;\">\n",
       "      <th></th>\n",
       "      <th>State</th>\n",
       "      <th>Year</th>\n",
       "      <th>Type_code</th>\n",
       "      <th>Type</th>\n",
       "      <th>Gender</th>\n",
       "      <th>Age_group</th>\n",
       "    </tr>\n",
       "  </thead>\n",
       "  <tbody>\n",
       "    <tr>\n",
       "      <th>0</th>\n",
       "      <td>A &amp; N ISLANDS</td>\n",
       "      <td>2001</td>\n",
       "      <td>Causes</td>\n",
       "      <td>Cancer</td>\n",
       "      <td>Male</td>\n",
       "      <td>15-29</td>\n",
       "    </tr>\n",
       "    <tr>\n",
       "      <th>1</th>\n",
       "      <td>A &amp; N ISLANDS</td>\n",
       "      <td>2001</td>\n",
       "      <td>Causes</td>\n",
       "      <td>Divorce</td>\n",
       "      <td>Male</td>\n",
       "      <td>60+</td>\n",
       "    </tr>\n",
       "    <tr>\n",
       "      <th>2</th>\n",
       "      <td>A &amp; N ISLANDS</td>\n",
       "      <td>2001</td>\n",
       "      <td>Causes</td>\n",
       "      <td>Dowry Dispute</td>\n",
       "      <td>Female</td>\n",
       "      <td>60+</td>\n",
       "    </tr>\n",
       "    <tr>\n",
       "      <th>3</th>\n",
       "      <td>A &amp; N ISLANDS</td>\n",
       "      <td>2001</td>\n",
       "      <td>Causes</td>\n",
       "      <td>Ideological Causes/Hero Worshipping</td>\n",
       "      <td>Female</td>\n",
       "      <td>60+</td>\n",
       "    </tr>\n",
       "    <tr>\n",
       "      <th>4</th>\n",
       "      <td>A &amp; N ISLANDS</td>\n",
       "      <td>2001</td>\n",
       "      <td>Causes</td>\n",
       "      <td>Illness (Aids/STD)</td>\n",
       "      <td>Female</td>\n",
       "      <td>0-14</td>\n",
       "    </tr>\n",
       "    <tr>\n",
       "      <th>...</th>\n",
       "      <td>...</td>\n",
       "      <td>...</td>\n",
       "      <td>...</td>\n",
       "      <td>...</td>\n",
       "      <td>...</td>\n",
       "      <td>...</td>\n",
       "    </tr>\n",
       "    <tr>\n",
       "      <th>237514</th>\n",
       "      <td>WEST BENGAL</td>\n",
       "      <td>2012</td>\n",
       "      <td>Professional_Profile</td>\n",
       "      <td>Professional Activity</td>\n",
       "      <td>Male</td>\n",
       "      <td>60+</td>\n",
       "    </tr>\n",
       "    <tr>\n",
       "      <th>237515</th>\n",
       "      <td>WEST BENGAL</td>\n",
       "      <td>2012</td>\n",
       "      <td>Professional_Profile</td>\n",
       "      <td>Self-employed (Business activity)</td>\n",
       "      <td>Male</td>\n",
       "      <td>0-14</td>\n",
       "    </tr>\n",
       "    <tr>\n",
       "      <th>237516</th>\n",
       "      <td>WEST BENGAL</td>\n",
       "      <td>2012</td>\n",
       "      <td>Professional_Profile</td>\n",
       "      <td>Service (Government)</td>\n",
       "      <td>Male</td>\n",
       "      <td>15-29</td>\n",
       "    </tr>\n",
       "    <tr>\n",
       "      <th>237517</th>\n",
       "      <td>WEST BENGAL</td>\n",
       "      <td>2012</td>\n",
       "      <td>Professional_Profile</td>\n",
       "      <td>Service (Government)</td>\n",
       "      <td>Male</td>\n",
       "      <td>60+</td>\n",
       "    </tr>\n",
       "    <tr>\n",
       "      <th>237518</th>\n",
       "      <td>WEST BENGAL</td>\n",
       "      <td>2012</td>\n",
       "      <td>Social_Status</td>\n",
       "      <td>Never Married</td>\n",
       "      <td>Male</td>\n",
       "      <td>0-100+</td>\n",
       "    </tr>\n",
       "  </tbody>\n",
       "</table>\n",
       "<p>236583 rows × 6 columns</p>\n",
       "</div>"
      ],
      "text/plain": [
       "                State  Year             Type_code  \\\n",
       "0       A & N ISLANDS  2001                Causes   \n",
       "1       A & N ISLANDS  2001                Causes   \n",
       "2       A & N ISLANDS  2001                Causes   \n",
       "3       A & N ISLANDS  2001                Causes   \n",
       "4       A & N ISLANDS  2001                Causes   \n",
       "...               ...   ...                   ...   \n",
       "237514    WEST BENGAL  2012  Professional_Profile   \n",
       "237515    WEST BENGAL  2012  Professional_Profile   \n",
       "237516    WEST BENGAL  2012  Professional_Profile   \n",
       "237517    WEST BENGAL  2012  Professional_Profile   \n",
       "237518    WEST BENGAL  2012         Social_Status   \n",
       "\n",
       "                                       Type  Gender Age_group  \n",
       "0                                    Cancer    Male     15-29  \n",
       "1                                   Divorce    Male       60+  \n",
       "2                             Dowry Dispute  Female       60+  \n",
       "3       Ideological Causes/Hero Worshipping  Female       60+  \n",
       "4                        Illness (Aids/STD)  Female      0-14  \n",
       "...                                     ...     ...       ...  \n",
       "237514                Professional Activity    Male       60+  \n",
       "237515    Self-employed (Business activity)    Male      0-14  \n",
       "237516                 Service (Government)    Male     15-29  \n",
       "237517                 Service (Government)    Male       60+  \n",
       "237518                        Never Married    Male    0-100+  \n",
       "\n",
       "[236583 rows x 6 columns]"
      ]
     },
     "execution_count": 14,
     "metadata": {},
     "output_type": "execute_result"
    }
   ],
   "source": [
    "data = data.drop(data[(data['State']=='TOTAL (ALL INDIA)') | (data['State']=='TOTAL (STATES)') | \\\n",
    "    (data['State']=='TOTAL (UTs)')].index)\n",
    "data"
   ]
  },
  {
   "cell_type": "code",
   "execution_count": 15,
   "id": "79251220",
   "metadata": {},
   "outputs": [],
   "source": [
    "data['Age_group'].replace(['0-14','15-29','30-44','45-59'],\\\n",
    "    ['Child','Young','Mature','Old'],inplace=True)"
   ]
  },
  {
   "cell_type": "code",
   "execution_count": 16,
   "id": "a8348662",
   "metadata": {},
   "outputs": [],
   "source": [
    "data['Age_group'].replace(['60+','0-100+'],'Very Old',inplace=True)"
   ]
  },
  {
   "cell_type": "code",
   "execution_count": 17,
   "id": "bfa25e71",
   "metadata": {},
   "outputs": [],
   "source": [
    "data_2001 = data[data['Year']==2001].reset_index(drop=True)\n",
    "data_2002 = data[data['Year']==2002].reset_index(drop=True)\n",
    "data_2003 = data[data['Year']==2003].reset_index(drop=True)\n",
    "data_2004 = data[data['Year']==2004].reset_index(drop=True)\n",
    "data_2005 = data[data['Year']==2005].reset_index(drop=True)\n",
    "data_2006 = data[data['Year']==2006].reset_index(drop=True)\n",
    "data_2007 = data[data['Year']==2007].reset_index(drop=True)\n",
    "data_2008 = data[data['Year']==2008].reset_index(drop=True)\n",
    "data_2009 = data[data['Year']==2009].reset_index(drop=True)\n",
    "data_2010 = data[data['Year']==2010].reset_index(drop=True)\n",
    "data_2011 = data[data['Year']==2011].reset_index(drop=True)\n",
    "data_2012 = data[data['Year']==2012].reset_index(drop=True)"
   ]
  },
  {
   "cell_type": "code",
   "execution_count": 18,
   "id": "e9a7160a",
   "metadata": {},
   "outputs": [
    {
     "data": {
      "text/plain": [
       "2001    19719\n",
       "2002    19712\n",
       "2003    19708\n",
       "2004    19705\n",
       "2005    19725\n",
       "2006    19708\n",
       "2007    19716\n",
       "2008    19719\n",
       "2009    19708\n",
       "2010    19714\n",
       "2011    19728\n",
       "2012    19721\n",
       "Name: Year, dtype: int64"
      ]
     },
     "execution_count": 18,
     "metadata": {},
     "output_type": "execute_result"
    }
   ],
   "source": [
    "data.Year.value_counts().sort_index()"
   ]
  },
  {
   "cell_type": "code",
   "execution_count": 19,
   "id": "3dd94468",
   "metadata": {},
   "outputs": [
    {
     "data": {
      "image/png": "[encoded data removed]",
      "text/plain": [
       "<Figure size 640x480 with 1 Axes>"
      ]
     },
     "metadata": {},
     "output_type": "display_data"
    }
   ],
   "source": [
    "pyp.ylim(19702,19735)\n",
    "pyp.plot(data.Year.value_counts().sort_index().index,data.Year.value_counts().sort_index().values,\\\n",
    "         marker='o',markerfacecolor='black',color='red')\n",
    "pyp.xticks(rotation=90,weight='bold')\n",
    "pyp.yticks(weight='bold')\n",
    "ax = pyp.gca()\n",
    "ax.text(2002,19731,'NO OF DEATHS PER YEAR',weight='bold',fontsize=12)\n",
    "pyp.show()"
   ]
  },
  {
   "cell_type": "markdown",
   "id": "b540e3c1",
   "metadata": {},
   "source": [
    "# YEAR 2001"
   ]
  },
  {
   "cell_type": "code",
   "execution_count": 20,
   "id": "22c2205f",
   "metadata": {},
   "outputs": [
    {
     "data": {
      "text/html": [
       "<div>\n",
       "<style scoped>\n",
       "    .dataframe tbody tr th:only-of-type {\n",
       "        vertical-align: middle;\n",
       "    }\n",
       "\n",
       "    .dataframe tbody tr th {\n",
       "        vertical-align: top;\n",
       "    }\n",
       "\n",
       "    .dataframe thead th {\n",
       "        text-align: right;\n",
       "    }\n",
       "</style>\n",
       "<table border=\"1\" class=\"dataframe\">\n",
       "  <thead>\n",
       "    <tr style=\"text-align: right;\">\n",
       "      <th></th>\n",
       "      <th>State</th>\n",
       "      <th>Year</th>\n",
       "      <th>Type_code</th>\n",
       "      <th>Type</th>\n",
       "      <th>Gender</th>\n",
       "      <th>Age_group</th>\n",
       "    </tr>\n",
       "  </thead>\n",
       "  <tbody>\n",
       "    <tr>\n",
       "      <th>0</th>\n",
       "      <td>A &amp; N ISLANDS</td>\n",
       "      <td>2001</td>\n",
       "      <td>Causes</td>\n",
       "      <td>Cancer</td>\n",
       "      <td>Male</td>\n",
       "      <td>Young</td>\n",
       "    </tr>\n",
       "    <tr>\n",
       "      <th>1</th>\n",
       "      <td>A &amp; N ISLANDS</td>\n",
       "      <td>2001</td>\n",
       "      <td>Causes</td>\n",
       "      <td>Divorce</td>\n",
       "      <td>Male</td>\n",
       "      <td>Very Old</td>\n",
       "    </tr>\n",
       "    <tr>\n",
       "      <th>2</th>\n",
       "      <td>A &amp; N ISLANDS</td>\n",
       "      <td>2001</td>\n",
       "      <td>Causes</td>\n",
       "      <td>Dowry Dispute</td>\n",
       "      <td>Female</td>\n",
       "      <td>Very Old</td>\n",
       "    </tr>\n",
       "    <tr>\n",
       "      <th>3</th>\n",
       "      <td>A &amp; N ISLANDS</td>\n",
       "      <td>2001</td>\n",
       "      <td>Causes</td>\n",
       "      <td>Ideological Causes/Hero Worshipping</td>\n",
       "      <td>Female</td>\n",
       "      <td>Very Old</td>\n",
       "    </tr>\n",
       "    <tr>\n",
       "      <th>4</th>\n",
       "      <td>A &amp; N ISLANDS</td>\n",
       "      <td>2001</td>\n",
       "      <td>Causes</td>\n",
       "      <td>Illness (Aids/STD)</td>\n",
       "      <td>Female</td>\n",
       "      <td>Child</td>\n",
       "    </tr>\n",
       "    <tr>\n",
       "      <th>...</th>\n",
       "      <td>...</td>\n",
       "      <td>...</td>\n",
       "      <td>...</td>\n",
       "      <td>...</td>\n",
       "      <td>...</td>\n",
       "      <td>...</td>\n",
       "    </tr>\n",
       "    <tr>\n",
       "      <th>19714</th>\n",
       "      <td>WEST BENGAL</td>\n",
       "      <td>2001</td>\n",
       "      <td>Means_adopted</td>\n",
       "      <td>By Overdose of sleeping pills</td>\n",
       "      <td>Male</td>\n",
       "      <td>Mature</td>\n",
       "    </tr>\n",
       "    <tr>\n",
       "      <th>19715</th>\n",
       "      <td>WEST BENGAL</td>\n",
       "      <td>2001</td>\n",
       "      <td>Means_adopted</td>\n",
       "      <td>By touching electric wires</td>\n",
       "      <td>Female</td>\n",
       "      <td>Child</td>\n",
       "    </tr>\n",
       "    <tr>\n",
       "      <th>19716</th>\n",
       "      <td>WEST BENGAL</td>\n",
       "      <td>2001</td>\n",
       "      <td>Professional_Profile</td>\n",
       "      <td>Public Sector Undertaking</td>\n",
       "      <td>Male</td>\n",
       "      <td>Old</td>\n",
       "    </tr>\n",
       "    <tr>\n",
       "      <th>19717</th>\n",
       "      <td>WEST BENGAL</td>\n",
       "      <td>2001</td>\n",
       "      <td>Professional_Profile</td>\n",
       "      <td>Retired Person</td>\n",
       "      <td>Female</td>\n",
       "      <td>Very Old</td>\n",
       "    </tr>\n",
       "    <tr>\n",
       "      <th>19718</th>\n",
       "      <td>WEST BENGAL</td>\n",
       "      <td>2001</td>\n",
       "      <td>Professional_Profile</td>\n",
       "      <td>Unemployed</td>\n",
       "      <td>Female</td>\n",
       "      <td>Mature</td>\n",
       "    </tr>\n",
       "  </tbody>\n",
       "</table>\n",
       "<p>19719 rows × 6 columns</p>\n",
       "</div>"
      ],
      "text/plain": [
       "               State  Year             Type_code  \\\n",
       "0      A & N ISLANDS  2001                Causes   \n",
       "1      A & N ISLANDS  2001                Causes   \n",
       "2      A & N ISLANDS  2001                Causes   \n",
       "3      A & N ISLANDS  2001                Causes   \n",
       "4      A & N ISLANDS  2001                Causes   \n",
       "...              ...   ...                   ...   \n",
       "19714    WEST BENGAL  2001         Means_adopted   \n",
       "19715    WEST BENGAL  2001         Means_adopted   \n",
       "19716    WEST BENGAL  2001  Professional_Profile   \n",
       "19717    WEST BENGAL  2001  Professional_Profile   \n",
       "19718    WEST BENGAL  2001  Professional_Profile   \n",
       "\n",
       "                                      Type  Gender Age_group  \n",
       "0                                   Cancer    Male     Young  \n",
       "1                                  Divorce    Male  Very Old  \n",
       "2                            Dowry Dispute  Female  Very Old  \n",
       "3      Ideological Causes/Hero Worshipping  Female  Very Old  \n",
       "4                       Illness (Aids/STD)  Female     Child  \n",
       "...                                    ...     ...       ...  \n",
       "19714        By Overdose of sleeping pills    Male    Mature  \n",
       "19715           By touching electric wires  Female     Child  \n",
       "19716            Public Sector Undertaking    Male       Old  \n",
       "19717                       Retired Person  Female  Very Old  \n",
       "19718                           Unemployed  Female    Mature  \n",
       "\n",
       "[19719 rows x 6 columns]"
      ]
     },
     "execution_count": 20,
     "metadata": {},
     "output_type": "execute_result"
    }
   ],
   "source": [
    "data_2001"
   ]
  },
  {
   "cell_type": "code",
   "execution_count": 21,
   "id": "0fed4215",
   "metadata": {},
   "outputs": [
    {
     "data": {
      "text/plain": [
       "Others (Please Specify)              609\n",
       "Divorce                              420\n",
       "Cancer                               350\n",
       "Drug Abuse/Addiction                 350\n",
       "Physical Abuse (Rape/Incest Etc.)    350\n",
       "                                    ... \n",
       "No Education                          70\n",
       "Diploma                               70\n",
       "Seperated                             70\n",
       "Married                               70\n",
       "Primary                               70\n",
       "Name: Type, Length: 65, dtype: int64"
      ]
     },
     "execution_count": 21,
     "metadata": {},
     "output_type": "execute_result"
    }
   ],
   "source": [
    "data_2001.Type.value_counts()"
   ]
  },
  {
   "cell_type": "code",
   "execution_count": 22,
   "id": "c9c284a8",
   "metadata": {},
   "outputs": [
    {
     "data": {
      "text/html": [
       "<div>\n",
       "<style scoped>\n",
       "    .dataframe tbody tr th:only-of-type {\n",
       "        vertical-align: middle;\n",
       "    }\n",
       "\n",
       "    .dataframe tbody tr th {\n",
       "        vertical-align: top;\n",
       "    }\n",
       "\n",
       "    .dataframe thead th {\n",
       "        text-align: right;\n",
       "    }\n",
       "</style>\n",
       "<table border=\"1\" class=\"dataframe\">\n",
       "  <thead>\n",
       "    <tr style=\"text-align: right;\">\n",
       "      <th></th>\n",
       "      <th>State</th>\n",
       "      <th>Year</th>\n",
       "      <th>Type_code</th>\n",
       "      <th>Type</th>\n",
       "      <th>Gender</th>\n",
       "      <th>Age_group</th>\n",
       "    </tr>\n",
       "  </thead>\n",
       "  <tbody>\n",
       "    <tr>\n",
       "      <th>0</th>\n",
       "      <td>A &amp; N ISLANDS</td>\n",
       "      <td>2001</td>\n",
       "      <td>Causes</td>\n",
       "      <td>Cancer</td>\n",
       "      <td>Male</td>\n",
       "      <td>Young</td>\n",
       "    </tr>\n",
       "    <tr>\n",
       "      <th>1</th>\n",
       "      <td>A &amp; N ISLANDS</td>\n",
       "      <td>2001</td>\n",
       "      <td>Causes</td>\n",
       "      <td>Divorce</td>\n",
       "      <td>Male</td>\n",
       "      <td>Very Old</td>\n",
       "    </tr>\n",
       "    <tr>\n",
       "      <th>27</th>\n",
       "      <td>A &amp; N ISLANDS</td>\n",
       "      <td>2001</td>\n",
       "      <td>Causes</td>\n",
       "      <td>Love Affairs</td>\n",
       "      <td>Male</td>\n",
       "      <td>Mature</td>\n",
       "    </tr>\n",
       "    <tr>\n",
       "      <th>33</th>\n",
       "      <td>A &amp; N ISLANDS</td>\n",
       "      <td>2001</td>\n",
       "      <td>Causes</td>\n",
       "      <td>Unemployment</td>\n",
       "      <td>Male</td>\n",
       "      <td>Child</td>\n",
       "    </tr>\n",
       "    <tr>\n",
       "      <th>40</th>\n",
       "      <td>A &amp; N ISLANDS</td>\n",
       "      <td>2001</td>\n",
       "      <td>Causes</td>\n",
       "      <td>Divorce</td>\n",
       "      <td>Female</td>\n",
       "      <td>Mature</td>\n",
       "    </tr>\n",
       "    <tr>\n",
       "      <th>...</th>\n",
       "      <td>...</td>\n",
       "      <td>...</td>\n",
       "      <td>...</td>\n",
       "      <td>...</td>\n",
       "      <td>...</td>\n",
       "      <td>...</td>\n",
       "    </tr>\n",
       "    <tr>\n",
       "      <th>19677</th>\n",
       "      <td>UTTARAKHAND</td>\n",
       "      <td>2001</td>\n",
       "      <td>Causes</td>\n",
       "      <td>Divorce</td>\n",
       "      <td>Male</td>\n",
       "      <td>Child</td>\n",
       "    </tr>\n",
       "    <tr>\n",
       "      <th>19683</th>\n",
       "      <td>UTTARAKHAND</td>\n",
       "      <td>2001</td>\n",
       "      <td>Causes</td>\n",
       "      <td>Unemployment</td>\n",
       "      <td>Male</td>\n",
       "      <td>Old</td>\n",
       "    </tr>\n",
       "    <tr>\n",
       "      <th>19696</th>\n",
       "      <td>UTTARAKHAND</td>\n",
       "      <td>2001</td>\n",
       "      <td>Social_Status</td>\n",
       "      <td>Divorce</td>\n",
       "      <td>Male</td>\n",
       "      <td>Very Old</td>\n",
       "    </tr>\n",
       "    <tr>\n",
       "      <th>19697</th>\n",
       "      <td>WEST BENGAL</td>\n",
       "      <td>2001</td>\n",
       "      <td>Causes</td>\n",
       "      <td>Cancer</td>\n",
       "      <td>Male</td>\n",
       "      <td>Very Old</td>\n",
       "    </tr>\n",
       "    <tr>\n",
       "      <th>19705</th>\n",
       "      <td>WEST BENGAL</td>\n",
       "      <td>2001</td>\n",
       "      <td>Causes</td>\n",
       "      <td>Love Affairs</td>\n",
       "      <td>Female</td>\n",
       "      <td>Old</td>\n",
       "    </tr>\n",
       "  </tbody>\n",
       "</table>\n",
       "<p>1540 rows × 6 columns</p>\n",
       "</div>"
      ],
      "text/plain": [
       "               State  Year      Type_code          Type  Gender Age_group\n",
       "0      A & N ISLANDS  2001         Causes        Cancer    Male     Young\n",
       "1      A & N ISLANDS  2001         Causes       Divorce    Male  Very Old\n",
       "27     A & N ISLANDS  2001         Causes  Love Affairs    Male    Mature\n",
       "33     A & N ISLANDS  2001         Causes  Unemployment    Male     Child\n",
       "40     A & N ISLANDS  2001         Causes       Divorce  Female    Mature\n",
       "...              ...   ...            ...           ...     ...       ...\n",
       "19677    UTTARAKHAND  2001         Causes       Divorce    Male     Child\n",
       "19683    UTTARAKHAND  2001         Causes  Unemployment    Male       Old\n",
       "19696    UTTARAKHAND  2001  Social_Status       Divorce    Male  Very Old\n",
       "19697    WEST BENGAL  2001         Causes        Cancer    Male  Very Old\n",
       "19705    WEST BENGAL  2001         Causes  Love Affairs  Female       Old\n",
       "\n",
       "[1540 rows x 6 columns]"
      ]
     },
     "execution_count": 22,
     "metadata": {},
     "output_type": "execute_result"
    }
   ],
   "source": [
    "cases = ['Cancer','Divorce','Ideological Causes','Love Affairs','Never Married','Unemployment']\n",
    "temp_2001 = data_2001[data_2001['Type'].isin(cases)]\n",
    "temp_2001"
   ]
  },
  {
   "cell_type": "code",
   "execution_count": 23,
   "id": "a7f83dad",
   "metadata": {},
   "outputs": [
    {
     "data": {
      "text/plain": [
       "Divorce          420\n",
       "Cancer           350\n",
       "Love Affairs     350\n",
       "Unemployment     350\n",
       "Never Married     70\n",
       "Name: Type, dtype: int64"
      ]
     },
     "execution_count": 23,
     "metadata": {},
     "output_type": "execute_result"
    }
   ],
   "source": [
    "temp_2001.Type.value_counts()"
   ]
  },
  {
   "cell_type": "code",
   "execution_count": 24,
   "id": "a1449c2a",
   "metadata": {},
   "outputs": [
    {
     "data": {
      "image/png": "[encoded data removed]",
      "text/plain": [
       "<Figure size 640x480 with 1 Axes>"
      ]
     },
     "metadata": {},
     "output_type": "display_data"
    }
   ],
   "source": [
    "pyp.ylim(50,500)\n",
    "pyp.bar(temp_2001.Type.value_counts().index,temp_2001.Type.value_counts().values,\\\n",
    "       color=['lightblue','aqua','orange','pink','grey'])\n",
    "pyp.xticks(rotation=90,weight='bold')\n",
    "ax = pyp.gca()\n",
    "ax.text(1,450,'NO OF DEATH CAUSE',weight='bold',fontsize=12)\n",
    "pyp.show()"
   ]
  },
  {
   "cell_type": "code",
   "execution_count": 25,
   "id": "a280296f",
   "metadata": {},
   "outputs": [
    {
     "data": {
      "text/plain": [
       "Male      9872\n",
       "Female    9847\n",
       "Name: Gender, dtype: int64"
      ]
     },
     "execution_count": 25,
     "metadata": {},
     "output_type": "execute_result"
    }
   ],
   "source": [
    "data_2001.Gender.value_counts()"
   ]
  },
  {
   "cell_type": "code",
   "execution_count": 26,
   "id": "7b6be5af",
   "metadata": {},
   "outputs": [
    {
     "data": {
      "text/plain": [
       "Very Old    4671\n",
       "Young       3768\n",
       "Mature      3767\n",
       "Old         3764\n",
       "Child       3749\n",
       "Name: Age_group, dtype: int64"
      ]
     },
     "execution_count": 26,
     "metadata": {},
     "output_type": "execute_result"
    }
   ],
   "source": [
    "data_2001.Age_group.value_counts()"
   ]
  },
  {
   "cell_type": "code",
   "execution_count": 27,
   "id": "8a8e2d32",
   "metadata": {},
   "outputs": [
    {
     "data": {
      "image/png": "[encoded data removed]",
      "text/plain": [
       "<Figure size 640x480 with 1 Axes>"
      ]
     },
     "metadata": {},
     "output_type": "display_data"
    }
   ],
   "source": [
    "pyp.xlim(-0.1,22.1)\n",
    "a,b,c = 2,3,4\n",
    "for nums in data_2001.Age_group.value_counts().index:\n",
    "    left = len(data_2001[(data_2001['Gender']=='Male') & (data_2001['Age_group']==nums)])\n",
    "    mid = len(data_2001[data_2001['Age_group']==nums])\n",
    "    right = len(data_2001[(data_2001['Gender']=='Female') & (data_2001['Age_group']==nums)])\n",
    "    pyp.xticks([])\n",
    "    pyp.bar(a,left,color='dimgrey')\n",
    "    pyp.bar(b,mid)\n",
    "    pyp.bar(c,right,color='orangered')\n",
    "    a = c+2\n",
    "    b = a+1\n",
    "    c = b+1\n",
    "pyp.xticks([2,6,10,14,18,4,8,12,16,20,3,7,11,15,17],['Male']*5+['Female']*5+data_2001.Age_group.value_counts().index.tolist()\\\n",
    "           ,rotation=90,weight='bold')\n",
    "ax = pyp.gca()\n",
    "ax.text(7,4100,'CATEGORIZED SUICIDE GENDERS',weight='bold',fontsize=12)\n",
    "pyp.show()"
   ]
  },
  {
   "cell_type": "markdown",
   "id": "d124b13f",
   "metadata": {},
   "source": [
    "# YEAR 2002"
   ]
  },
  {
   "cell_type": "code",
   "execution_count": 28,
   "id": "b20d5f74",
   "metadata": {},
   "outputs": [
    {
     "data": {
      "text/html": [
       "<div>\n",
       "<style scoped>\n",
       "    .dataframe tbody tr th:only-of-type {\n",
       "        vertical-align: middle;\n",
       "    }\n",
       "\n",
       "    .dataframe tbody tr th {\n",
       "        vertical-align: top;\n",
       "    }\n",
       "\n",
       "    .dataframe thead th {\n",
       "        text-align: right;\n",
       "    }\n",
       "</style>\n",
       "<table border=\"1\" class=\"dataframe\">\n",
       "  <thead>\n",
       "    <tr style=\"text-align: right;\">\n",
       "      <th></th>\n",
       "      <th>State</th>\n",
       "      <th>Year</th>\n",
       "      <th>Type_code</th>\n",
       "      <th>Type</th>\n",
       "      <th>Gender</th>\n",
       "      <th>Age_group</th>\n",
       "    </tr>\n",
       "  </thead>\n",
       "  <tbody>\n",
       "    <tr>\n",
       "      <th>0</th>\n",
       "      <td>A &amp; N ISLANDS</td>\n",
       "      <td>2002</td>\n",
       "      <td>Causes</td>\n",
       "      <td>Bankruptcy or Sudden change in Economic Status</td>\n",
       "      <td>Male</td>\n",
       "      <td>Very Old</td>\n",
       "    </tr>\n",
       "    <tr>\n",
       "      <th>1</th>\n",
       "      <td>A &amp; N ISLANDS</td>\n",
       "      <td>2002</td>\n",
       "      <td>Causes</td>\n",
       "      <td>Cancellation/Non-Settlement of Marriage</td>\n",
       "      <td>Male</td>\n",
       "      <td>Mature</td>\n",
       "    </tr>\n",
       "    <tr>\n",
       "      <th>2</th>\n",
       "      <td>A &amp; N ISLANDS</td>\n",
       "      <td>2002</td>\n",
       "      <td>Causes</td>\n",
       "      <td>Death of Dear Person</td>\n",
       "      <td>Male</td>\n",
       "      <td>Child</td>\n",
       "    </tr>\n",
       "    <tr>\n",
       "      <th>3</th>\n",
       "      <td>A &amp; N ISLANDS</td>\n",
       "      <td>2002</td>\n",
       "      <td>Causes</td>\n",
       "      <td>Ideological Causes/Hero Worshipping</td>\n",
       "      <td>Male</td>\n",
       "      <td>Mature</td>\n",
       "    </tr>\n",
       "    <tr>\n",
       "      <th>4</th>\n",
       "      <td>A &amp; N ISLANDS</td>\n",
       "      <td>2002</td>\n",
       "      <td>Causes</td>\n",
       "      <td>Illness (Aids/STD)</td>\n",
       "      <td>Female</td>\n",
       "      <td>Mature</td>\n",
       "    </tr>\n",
       "    <tr>\n",
       "      <th>...</th>\n",
       "      <td>...</td>\n",
       "      <td>...</td>\n",
       "      <td>...</td>\n",
       "      <td>...</td>\n",
       "      <td>...</td>\n",
       "      <td>...</td>\n",
       "    </tr>\n",
       "    <tr>\n",
       "      <th>19707</th>\n",
       "      <td>WEST BENGAL</td>\n",
       "      <td>2002</td>\n",
       "      <td>Means_adopted</td>\n",
       "      <td>By Over Alcoholism</td>\n",
       "      <td>Female</td>\n",
       "      <td>Very Old</td>\n",
       "    </tr>\n",
       "    <tr>\n",
       "      <th>19708</th>\n",
       "      <td>WEST BENGAL</td>\n",
       "      <td>2002</td>\n",
       "      <td>Professional_Profile</td>\n",
       "      <td>House Wife</td>\n",
       "      <td>Female</td>\n",
       "      <td>Young</td>\n",
       "    </tr>\n",
       "    <tr>\n",
       "      <th>19709</th>\n",
       "      <td>WEST BENGAL</td>\n",
       "      <td>2002</td>\n",
       "      <td>Professional_Profile</td>\n",
       "      <td>Others (Please Specify)</td>\n",
       "      <td>Male</td>\n",
       "      <td>Very Old</td>\n",
       "    </tr>\n",
       "    <tr>\n",
       "      <th>19710</th>\n",
       "      <td>WEST BENGAL</td>\n",
       "      <td>2002</td>\n",
       "      <td>Professional_Profile</td>\n",
       "      <td>Retired Person</td>\n",
       "      <td>Female</td>\n",
       "      <td>Old</td>\n",
       "    </tr>\n",
       "    <tr>\n",
       "      <th>19711</th>\n",
       "      <td>WEST BENGAL</td>\n",
       "      <td>2002</td>\n",
       "      <td>Professional_Profile</td>\n",
       "      <td>Self-employed (Business activity)</td>\n",
       "      <td>Male</td>\n",
       "      <td>Mature</td>\n",
       "    </tr>\n",
       "  </tbody>\n",
       "</table>\n",
       "<p>19712 rows × 6 columns</p>\n",
       "</div>"
      ],
      "text/plain": [
       "               State  Year             Type_code  \\\n",
       "0      A & N ISLANDS  2002                Causes   \n",
       "1      A & N ISLANDS  2002                Causes   \n",
       "2      A & N ISLANDS  2002                Causes   \n",
       "3      A & N ISLANDS  2002                Causes   \n",
       "4      A & N ISLANDS  2002                Causes   \n",
       "...              ...   ...                   ...   \n",
       "19707    WEST BENGAL  2002         Means_adopted   \n",
       "19708    WEST BENGAL  2002  Professional_Profile   \n",
       "19709    WEST BENGAL  2002  Professional_Profile   \n",
       "19710    WEST BENGAL  2002  Professional_Profile   \n",
       "19711    WEST BENGAL  2002  Professional_Profile   \n",
       "\n",
       "                                                 Type  Gender Age_group  \n",
       "0      Bankruptcy or Sudden change in Economic Status    Male  Very Old  \n",
       "1             Cancellation/Non-Settlement of Marriage    Male    Mature  \n",
       "2                                Death of Dear Person    Male     Child  \n",
       "3                 Ideological Causes/Hero Worshipping    Male    Mature  \n",
       "4                                  Illness (Aids/STD)  Female    Mature  \n",
       "...                                               ...     ...       ...  \n",
       "19707                              By Over Alcoholism  Female  Very Old  \n",
       "19708                                      House Wife  Female     Young  \n",
       "19709                         Others (Please Specify)    Male  Very Old  \n",
       "19710                                  Retired Person  Female       Old  \n",
       "19711               Self-employed (Business activity)    Male    Mature  \n",
       "\n",
       "[19712 rows x 6 columns]"
      ]
     },
     "execution_count": 28,
     "metadata": {},
     "output_type": "execute_result"
    }
   ],
   "source": [
    "data_2002"
   ]
  },
  {
   "cell_type": "code",
   "execution_count": 36,
   "id": "579c7723",
   "metadata": {},
   "outputs": [
    {
     "data": {
      "text/plain": [
       "Others (Please Specify)                           602\n",
       "Divorce                                           420\n",
       "Bankruptcy or Sudden change in Economic Status    350\n",
       "Love Affairs                                      350\n",
       "By Jumping from (Other sites)                     350\n",
       "                                                 ... \n",
       "No Education                                       70\n",
       "Seperated                                          70\n",
       "Diploma                                            70\n",
       "Never Married                                      70\n",
       "Hr. Secondary/Intermediate/Pre-Universit           70\n",
       "Name: Type, Length: 65, dtype: int64"
      ]
     },
     "execution_count": 36,
     "metadata": {},
     "output_type": "execute_result"
    }
   ],
   "source": [
    "data_2002.Type.value_counts()"
   ]
  },
  {
   "cell_type": "code",
   "execution_count": 30,
   "id": "5e8e8562",
   "metadata": {},
   "outputs": [
    {
     "data": {
      "text/html": [
       "<div>\n",
       "<style scoped>\n",
       "    .dataframe tbody tr th:only-of-type {\n",
       "        vertical-align: middle;\n",
       "    }\n",
       "\n",
       "    .dataframe tbody tr th {\n",
       "        vertical-align: top;\n",
       "    }\n",
       "\n",
       "    .dataframe thead th {\n",
       "        text-align: right;\n",
       "    }\n",
       "</style>\n",
       "<table border=\"1\" class=\"dataframe\">\n",
       "  <thead>\n",
       "    <tr style=\"text-align: right;\">\n",
       "      <th></th>\n",
       "      <th>State</th>\n",
       "      <th>Year</th>\n",
       "      <th>Type_code</th>\n",
       "      <th>Type</th>\n",
       "      <th>Gender</th>\n",
       "      <th>Age_group</th>\n",
       "    </tr>\n",
       "  </thead>\n",
       "  <tbody>\n",
       "    <tr>\n",
       "      <th>30</th>\n",
       "      <td>A &amp; N ISLANDS</td>\n",
       "      <td>2002</td>\n",
       "      <td>Social_Status</td>\n",
       "      <td>Never Married</td>\n",
       "      <td>Female</td>\n",
       "      <td>Very Old</td>\n",
       "    </tr>\n",
       "    <tr>\n",
       "      <th>64</th>\n",
       "      <td>A &amp; N ISLANDS</td>\n",
       "      <td>2002</td>\n",
       "      <td>Causes</td>\n",
       "      <td>Divorce</td>\n",
       "      <td>Male</td>\n",
       "      <td>Child</td>\n",
       "    </tr>\n",
       "    <tr>\n",
       "      <th>68</th>\n",
       "      <td>A &amp; N ISLANDS</td>\n",
       "      <td>2002</td>\n",
       "      <td>Causes</td>\n",
       "      <td>Love Affairs</td>\n",
       "      <td>Male</td>\n",
       "      <td>Mature</td>\n",
       "    </tr>\n",
       "    <tr>\n",
       "      <th>76</th>\n",
       "      <td>A &amp; N ISLANDS</td>\n",
       "      <td>2002</td>\n",
       "      <td>Social_Status</td>\n",
       "      <td>Divorce</td>\n",
       "      <td>Male</td>\n",
       "      <td>Very Old</td>\n",
       "    </tr>\n",
       "    <tr>\n",
       "      <th>77</th>\n",
       "      <td>A &amp; N ISLANDS</td>\n",
       "      <td>2002</td>\n",
       "      <td>Causes</td>\n",
       "      <td>Cancer</td>\n",
       "      <td>Female</td>\n",
       "      <td>Old</td>\n",
       "    </tr>\n",
       "    <tr>\n",
       "      <th>...</th>\n",
       "      <td>...</td>\n",
       "      <td>...</td>\n",
       "      <td>...</td>\n",
       "      <td>...</td>\n",
       "      <td>...</td>\n",
       "      <td>...</td>\n",
       "    </tr>\n",
       "    <tr>\n",
       "      <th>19655</th>\n",
       "      <td>TRIPURA</td>\n",
       "      <td>2002</td>\n",
       "      <td>Causes</td>\n",
       "      <td>Love Affairs</td>\n",
       "      <td>Female</td>\n",
       "      <td>Old</td>\n",
       "    </tr>\n",
       "    <tr>\n",
       "      <th>19660</th>\n",
       "      <td>TRIPURA</td>\n",
       "      <td>2002</td>\n",
       "      <td>Causes</td>\n",
       "      <td>Unemployment</td>\n",
       "      <td>Male</td>\n",
       "      <td>Young</td>\n",
       "    </tr>\n",
       "    <tr>\n",
       "      <th>19671</th>\n",
       "      <td>UTTAR PRADESH</td>\n",
       "      <td>2002</td>\n",
       "      <td>Causes</td>\n",
       "      <td>Love Affairs</td>\n",
       "      <td>Female</td>\n",
       "      <td>Very Old</td>\n",
       "    </tr>\n",
       "    <tr>\n",
       "      <th>19687</th>\n",
       "      <td>UTTARAKHAND</td>\n",
       "      <td>2002</td>\n",
       "      <td>Causes</td>\n",
       "      <td>Unemployment</td>\n",
       "      <td>Male</td>\n",
       "      <td>Old</td>\n",
       "    </tr>\n",
       "    <tr>\n",
       "      <th>19697</th>\n",
       "      <td>WEST BENGAL</td>\n",
       "      <td>2002</td>\n",
       "      <td>Causes</td>\n",
       "      <td>Love Affairs</td>\n",
       "      <td>Male</td>\n",
       "      <td>Young</td>\n",
       "    </tr>\n",
       "  </tbody>\n",
       "</table>\n",
       "<p>1540 rows × 6 columns</p>\n",
       "</div>"
      ],
      "text/plain": [
       "               State  Year      Type_code           Type  Gender Age_group\n",
       "30     A & N ISLANDS  2002  Social_Status  Never Married  Female  Very Old\n",
       "64     A & N ISLANDS  2002         Causes        Divorce    Male     Child\n",
       "68     A & N ISLANDS  2002         Causes   Love Affairs    Male    Mature\n",
       "76     A & N ISLANDS  2002  Social_Status        Divorce    Male  Very Old\n",
       "77     A & N ISLANDS  2002         Causes         Cancer  Female       Old\n",
       "...              ...   ...            ...            ...     ...       ...\n",
       "19655        TRIPURA  2002         Causes   Love Affairs  Female       Old\n",
       "19660        TRIPURA  2002         Causes   Unemployment    Male     Young\n",
       "19671  UTTAR PRADESH  2002         Causes   Love Affairs  Female  Very Old\n",
       "19687    UTTARAKHAND  2002         Causes   Unemployment    Male       Old\n",
       "19697    WEST BENGAL  2002         Causes   Love Affairs    Male     Young\n",
       "\n",
       "[1540 rows x 6 columns]"
      ]
     },
     "execution_count": 30,
     "metadata": {},
     "output_type": "execute_result"
    }
   ],
   "source": [
    "cases = ['Cancer','Divorce','Ideological Causes','Love Affairs','Never Married','Unemployment']\n",
    "temp_2002 = data_2002[data_2002['Type'].isin(cases)]\n",
    "temp_2002"
   ]
  },
  {
   "cell_type": "code",
   "execution_count": 31,
   "id": "fe15f48e",
   "metadata": {},
   "outputs": [
    {
     "data": {
      "text/plain": [
       "Divorce          420\n",
       "Love Affairs     350\n",
       "Cancer           350\n",
       "Unemployment     350\n",
       "Never Married     70\n",
       "Name: Type, dtype: int64"
      ]
     },
     "execution_count": 31,
     "metadata": {},
     "output_type": "execute_result"
    }
   ],
   "source": [
    "temp_2002.Type.value_counts()"
   ]
  },
  {
   "cell_type": "code",
   "execution_count": 32,
   "id": "4a933ab0",
   "metadata": {},
   "outputs": [
    {
     "data": {
      "image/png": "[encoded data removed]",
      "text/plain": [
       "<Figure size 640x480 with 1 Axes>"
      ]
     },
     "metadata": {},
     "output_type": "display_data"
    }
   ],
   "source": [
    "pyp.ylim(50,500)\n",
    "pyp.bar(temp_2002.Type.value_counts().index,temp_2002.Type.value_counts().values,\\\n",
    "       color=['lightblue','aqua','orange','pink','grey'])\n",
    "pyp.xticks(rotation=90,weight='bold')\n",
    "ax = pyp.gca()\n",
    "ax.text(1,450,'NO OF DEATH CAUSE',weight='bold',fontsize=12)\n",
    "pyp.show()"
   ]
  },
  {
   "cell_type": "code",
   "execution_count": 33,
   "id": "aa29a427",
   "metadata": {},
   "outputs": [
    {
     "data": {
      "text/plain": [
       "Male      9867\n",
       "Female    9845\n",
       "Name: Gender, dtype: int64"
      ]
     },
     "execution_count": 33,
     "metadata": {},
     "output_type": "execute_result"
    }
   ],
   "source": [
    "data_2002.Gender.value_counts()"
   ]
  },
  {
   "cell_type": "code",
   "execution_count": 34,
   "id": "3bbe7c7f",
   "metadata": {},
   "outputs": [
    {
     "data": {
      "text/plain": [
       "Very Old    4664\n",
       "Mature      3768\n",
       "Young       3765\n",
       "Old         3764\n",
       "Child       3751\n",
       "Name: Age_group, dtype: int64"
      ]
     },
     "execution_count": 34,
     "metadata": {},
     "output_type": "execute_result"
    }
   ],
   "source": [
    "data_2002.Age_group.value_counts()"
   ]
  },
  {
   "cell_type": "code",
   "execution_count": 35,
   "id": "ad26c72b",
   "metadata": {},
   "outputs": [
    {
     "data": {
      "image/png": "[encoded data removed]",
      "text/plain": [
       "<Figure size 640x480 with 1 Axes>"
      ]
     },
     "metadata": {},
     "output_type": "display_data"
    }
   ],
   "source": [
    "pyp.xlim(-0.1,22.1)\n",
    "a,b,c = 2,3,4\n",
    "for nums in data_2002.Age_group.value_counts().index:\n",
    "    left = len(data_2002[(data_2002['Gender']=='Male') & (data_2002['Age_group']==nums)])\n",
    "    mid = len(data_2002[data_2002['Age_group']==nums])\n",
    "    right = len(data_2002[(data_2002['Gender']=='Female') & (data_2002['Age_group']==nums)])\n",
    "    pyp.xticks([])\n",
    "    pyp.bar(a,left,color='dimgrey')\n",
    "    pyp.bar(b,mid)\n",
    "    pyp.bar(c,right,color='orangered')\n",
    "    a = c+2\n",
    "    b = a+1\n",
    "    c = b+1\n",
    "pyp.xticks([2,6,10,14,18,4,8,12,16,20,3,7,11,15,17],['Male']*5+['Female']*5+data_2002.Age_group.value_counts().index.tolist()\\\n",
    "           ,rotation=90,weight='bold')\n",
    "ax = pyp.gca()\n",
    "ax.text(7,4100,'CATEGORIZED SUICIDE GENDERS',weight='bold',fontsize=12)\n",
    "pyp.show()"
   ]
  },
  {
   "cell_type": "code",
   "execution_count": null,
   "id": "f5ee3ac3",
   "metadata": {},
   "outputs": [],
   "source": []
  }
 ],
 "metadata": {
  "kernelspec": {
   "display_name": "Python 3 (ipykernel)",
   "language": "python",
   "name": "python3"
  },
  "language_info": {
   "codemirror_mode": {
    "name": "ipython",
    "version": 3
   },
   "file_extension": ".py",
   "mimetype": "text/x-python",
   "name": "python",
   "nbconvert_exporter": "python",
   "pygments_lexer": "ipython3",
   "version": "3.9.13"
  }
 },
 "nbformat": 4,
 "nbformat_minor": 5
}
